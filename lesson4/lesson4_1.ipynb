{
 "cells": [
  {
   "cell_type": "code",
   "execution_count": null,
   "id": "9cff415d",
   "metadata": {},
   "outputs": [
    {
     "name": "stdout",
     "output_type": "stream",
     "text": [
      "<class 'langchain_core.messages.ai.AIMessage'>\n",
      "所有答案\n",
      "content='81 ÷ 9 = 9' additional_kwargs={} response_metadata={'model': 'llama3.2:latest', 'created_at': '2025-09-20T06:42:21.6530024Z', 'done': True, 'done_reason': 'stop', 'total_duration': 1668275900, 'load_duration': 165501600, 'prompt_eval_count': 33, 'prompt_eval_duration': 199164700, 'eval_count': 9, 'eval_duration': 1303059500, 'model_name': 'llama3.2:latest'} id='run--5971303f-572b-4178-8851-8b0f4a19bd3d-0' usage_metadata={'input_tokens': 33, 'output_tokens': 9, 'total_tokens': 42}\n",
      "回答內容是\n",
      "81 ÷ 9 = 9\n"
     ]
    }
   ],
   "source": [
    "from langchain_ollama import ChatOllama\n",
    "\n",
    "\n",
    "# Create a ChatOllama model\n",
    "# 透過網址的方式連結ollama (指定 base_url 指向 Ollama server)\n",
    "# 預設 Ollama server 在本機的 11434 埠，若在其他主機或埠請改成相對應的網址\n",
    "\n",
    "#model = ChatOllama(model=\"llama3.2:latest\", base_url=\"http://host.docker.internal:11434\")\n",
    "model = ChatOllama(model=\"llama3.2:latest\",base_url=\"http://localhost:11434\")\n",
    "\n",
    "\n",
    "# Invoke the model with a message\n",
    "result = model.invoke(\"81除以9的答案是?\")\n",
    "print(type(result))\n",
    "print(\"所有答案\")\n",
    "print(result)\n",
    "print(\"回答內容是\")\n",
    "print(result.content)"
   ]
  },
  {
   "cell_type": "code",
   "execution_count": 5,
   "id": "a992bb1e",
   "metadata": {},
   "outputs": [
    {
     "name": "stdout",
     "output_type": "stream",
     "text": [
      "<class 'langchain_core.messages.ai.AIMessage'>\n",
      "所有答案\n",
      "content='63 ÷ 9 = 7' additional_kwargs={} response_metadata={'model': 'llama3.2:latest', 'created_at': '2025-09-20T06:45:06.649934Z', 'done': True, 'done_reason': 'stop', 'total_duration': 2179737000, 'load_duration': 157686100, 'prompt_eval_count': 33, 'prompt_eval_duration': 697727800, 'eval_count': 9, 'eval_duration': 1323286400, 'model_name': 'llama3.2:latest'} id='run--69df8482-d44f-4365-8ce1-8b6a6ddb83d7-0' usage_metadata={'input_tokens': 33, 'output_tokens': 9, 'total_tokens': 42}\n",
      "回答內容是\n",
      "63 ÷ 9 = 7\n"
     ]
    }
   ],
   "source": [
    "from langchain_ollama import ChatOllama\n",
    "\n",
    "\n",
    "# Create a ChatOllama model\n",
    "# 透過網址的方式連結ollama (指定 base_url 指向 Ollama server)\n",
    "# 預設 Ollama server 在本機的 11434 埠，若在其他主機或埠請改成相對應的網址\n",
    "\n",
    "#model = ChatOllama(model=\"llama3.2:latest\", base_url=\"http://host.docker.internal:11434\")\n",
    "model = ChatOllama(model=\"llama3.2:latest\",base_url=\"http://localhost:11434\")\n",
    "\n",
    "\n",
    "# Invoke the model with a message\n",
    "result = model.invoke(\"63除以9的答案是?\")\n",
    "print(type(result))\n",
    "print(\"所有答案\")\n",
    "print(result)\n",
    "print(\"回答內容是\")\n",
    "print(result.content)"
   ]
  }
 ],
 "metadata": {
  "kernelspec": {
   "display_name": ".venv",
   "language": "python",
   "name": "python3"
  },
  "language_info": {
   "codemirror_mode": {
    "name": "ipython",
    "version": 3
   },
   "file_extension": ".py",
   "mimetype": "text/x-python",
   "name": "python",
   "nbconvert_exporter": "python",
   "pygments_lexer": "ipython3",
   "version": "3.10.18"
  }
 },
 "nbformat": 4,
 "nbformat_minor": 5
}
