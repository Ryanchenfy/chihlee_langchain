{
 "cells": [
  {
   "cell_type": "code",
   "execution_count": null,
   "id": "aa8279a2",
   "metadata": {
    "vscode": {
     "languageId": "r"
    }
   },
   "outputs": [],
   "source": []
  },
  {
   "cell_type": "markdown",
   "id": "96896c7a",
   "metadata": {},
   "source": [
    "### 這是langchain的課程"
   ]
  },
  {
   "cell_type": "code",
   "execution_count": 1,
   "id": "4eff66d3",
   "metadata": {
    "vscode": {
     "languageId": "r"
    }
   },
   "outputs": [
    {
     "name": "stdout",
     "output_type": "stream",
     "text": [
      "[1] \"Hello.World\"\n"
     ]
    }
   ],
   "source": [
    "print(\"Hello.World\")\n"
   ]
  }
 ],
 "metadata": {
  "kernelspec": {
   "display_name": "R",
   "language": "R",
   "name": "ir"
  },
  "language_info": {
   "codemirror_mode": "r",
   "file_extension": ".r",
   "mimetype": "text/x-r-source",
   "name": "R",
   "pygments_lexer": "r",
   "version": "3.6.1"
  }
 },
 "nbformat": 4,
 "nbformat_minor": 5
}
