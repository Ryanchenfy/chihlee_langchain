{
 "cells": [
  {
   "cell_type": "markdown",
   "id": "96896c7a",
   "metadata": {},
   "source": [
    "### 這是langchain的課程"
   ]
  },
  {
   "cell_type": "code",
   "execution_count": null,
   "id": "4eff66d3",
   "metadata": {},
   "outputs": [
    {
     "name": "stdout",
     "output_type": "stream",
     "text": [
      "[1] \"Hello.World\"\n"
     ]
    }
   ],
   "source": [
    "print(\"Hello.World\")\n"
   ]
  },
  {
   "cell_type": "markdown",
   "id": "9d29fca7",
   "metadata": {},
   "source": [
    "建立幾格變數,讓學生了解, int,loat, str,bool"
   ]
  },
  {
   "cell_type": "code",
   "execution_count": null,
   "id": "7499f3d0",
   "metadata": {},
   "outputs": [
    {
     "ename": "ERROR",
     "evalue": "Error in parse(text = x, srcfile = src): <text>:1:13: 未預期的 ','\n1: 建立幾個變數,\n                ^\n",
     "output_type": "error",
     "traceback": [
      "Error in parse(text = x, srcfile = src): <text>:1:13: 未預期的 ','\n1: 建立幾個變數,\n                ^\nTraceback:\n"
     ]
    }
   ],
   "source": [
    "建立幾個變數,讓學生了解, int,loat, str,bool"
   ]
  }
 ],
 "metadata": {
  "kernelspec": {
   "display_name": "langchain",
   "language": "python",
   "name": "python3"
  },
  "language_info": {
   "codemirror_mode": "r",
   "file_extension": ".r",
   "mimetype": "text/x-r-source",
   "name": "python",
   "pygments_lexer": "r",
   "version": "3.11.13"
  }
 },
 "nbformat": 4,
 "nbformat_minor": 5
}
