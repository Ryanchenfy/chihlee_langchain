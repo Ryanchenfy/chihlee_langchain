{
 "cells": [
  {
   "cell_type": "markdown",
   "id": "96896c7a",
   "metadata": {},
   "source": [
    "### 這是langchain的課程"
   ]
  },
  {
   "cell_type": "code",
   "execution_count": null,
   "id": "4eff66d3",
   "metadata": {},
   "outputs": [
    {
     "ename": "",
     "evalue": "",
     "output_type": "error",
     "traceback": [
      "\u001b[1;31mRunning cells with 'langchain (Python 3.11.13)' requires the ipykernel package.\n",
      "\u001b[1;31m<a href='command:jupyter.createPythonEnvAndSelectController'>Create a Python Environment</a> with the required packages."
     ]
    }
   ],
   "source": [
    "print(\"Hello, World\")\n"
   ]
  },
  {
   "cell_type": "markdown",
   "id": "9d29fca7",
   "metadata": {},
   "source": [
    "建立幾格變數,讓學生了解, int,loat, str,bool"
   ]
  },
  {
   "cell_type": "code",
   "execution_count": null,
   "id": "7499f3d0",
   "metadata": {},
   "outputs": [],
   "source": [
    "建立幾個變數,讓學生了解, int,loat, str,bool"
   ]
  }
 ],
 "metadata": {
  "kernelspec": {
   "display_name": "langchain",
   "language": "python",
   "name": "python3"
  },
  "language_info": {
   "codemirror_mode": "r",
   "file_extension": ".r",
   "mimetype": "text/x-r-source",
   "name": "python",
   "pygments_lexer": "r",
   "version": "3.11.13"
  }
 },
 "nbformat": 4,
 "nbformat_minor": 5
}
